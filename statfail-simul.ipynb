{
 "cells": [
  {
   "cell_type": "code",
   "execution_count": 4,
   "metadata": {
    "collapsed": true
   },
   "outputs": [],
   "source": [
    "%matplotlib inline\n",
    "\n",
    "import numpy as np\n",
    "import scipy\n",
    "import seaborn as sns\n",
    "import matplotlib.pyplot as plt"
   ]
  },
  {
   "cell_type": "code",
   "execution_count": 1,
   "metadata": {
    "collapsed": false
   },
   "outputs": [],
   "source": [
    "def run(n=20, effect_size=.5, confound_size=.5, runs=10000):\n",
    "    effect = np.random.randn(runs, n) + effect_size\n",
    "    confound = np.random.randn(runs, n) + confound_size\n",
    "    group1 = np.random.randn(runs, n)\n",
    "    group2 = np.random.randn(runs, n)\n",
    "\n",
    "    unconfounded_results = scipy.stats.ttest_1samp(group1 + effect, axis=1)[1]\n",
    "    confounded_results = scipy.stats.ttest_1samp(group1 + effect + confound, axis=1)[1]\n",
    "    stim_tests = scipy.stats.ttest_1samp(confound.T, 0)[1]\n",
    "\n",
    "    sig_stimtests = np.where(stim_tests < .05)\n",
    "    insig_stimtests = np.where(stim_tests > .05)\n",
    "    assert(len(stim_tests) == runs)\n",
    "\n",
    "    # Fake effect (not detected) \n",
    "    # stimuli not classified as confounded\n",
    "    # significant effect with confounds\n",
    "    nonrejected_insign_in_conf = np.intersect1d(insig_stimtests, np.where(confounded_results < .05)[0])\n",
    "    no_alarm = unconfounded_results[np.intersect1d(nonrejected_insign_in_conf, \n",
    "                                                   np.where(unconfounded_results > .05)[0])]\n",
    "\n",
    "    # Fake effect (not detected) \n",
    "    # stimuli classified as confounded\n",
    "    # significant effect with confounds\n",
    "    rejected_sign_in_conf = np.intersect1d(sig_stimtests, np.where(confounded_results < .05)[0])\n",
    "    good_alarm = unconfounded_results[np.intersect1d(rejected_sign_in_conf, \n",
    "                                                     np.where(unconfounded_results > .05)[0])]\n",
    "\n",
    "    # Real effect (falsely rejected) \n",
    "    # stimuli classified as confounded\n",
    "    # significant effect without confounds\n",
    "    false_rejection = unconfounded_results[np.intersect1d(sig_stimtests, \n",
    "                                                          np.where(unconfounded_results < .05)[0])]\n",
    "\n",
    "    return no_alarm, good_alarm, false_rejection\n"
   ]
  },
  {
   "cell_type": "code",
   "execution_count": 11,
   "metadata": {
    "collapsed": true
   },
   "outputs": [],
   "source": [
    "def plot_hist(no_alarm, good_alarm, false_rejection, runs=100000, \n",
    "              effect_size=.5, n=20, confound_size=.3, ax=None, plty=False, pltx=False):\n",
    "    ax.hist([no_alarm, good_alarm, false_rejection], \n",
    "             label=('Nondetected false results %: {}'.format(int(10*len(no_alarm)/runs*100)/10), \n",
    "                    'Detected false results %: {}'.format(int(10*len(good_alarm)/runs*100)/10), \n",
    "                    '(Falsely) rejected \"real\" results %: {}'.format(int(10*len(false_rejection)/runs*100)/10)),\n",
    "             bins=np.arange(0, 1.05, .05))\n",
    "    ax.legend()\n",
    "    if pltx: ax.set_xlabel(\"p value of unconfounded data\")\n",
    "    else: ax.set_xticks([])\n",
    "    if plty: ax.set_ylabel(\"Counts\")\n",
    "    ax.set_title(\"n: {}. Effect size: {}. Confound size: {}\".format(n, effect_size, confound_size))\n",
    "\n",
    "\n",
    "def run_stim(n=20, stims=40, effect_size=.5, confound_size=.3, runs=100000):\n",
    "    effect = np.random.randn(runs, n) + effect_size\n",
    "    confound = np.random.randn(runs, n) + confound_size\n",
    "#    group1 = np.random.randn(runs, n)\n",
    "#    group2 = np.random.randn(runs, n)\n",
    "\n",
    "    unconfounded_results = scipy.stats.ttest_1samp(effect, 0, axis=1)[1]\n",
    "    confounded_results = scipy.stats.ttest_1samp(effect + confound, 0, axis=1)[1]\n",
    "    stim_tests = scipy.stats.ttest_1samp(confound.T, 0)[1]\n",
    "\n",
    "    sig_stimtests = np.where(stim_tests < .05)\n",
    "    insig_stimtests = np.where(stim_tests > .05)\n",
    "    assert(len(stim_tests) == runs)\n",
    "\n",
    "    # Fake effect (not detected) \n",
    "    # stimuli not classified as confounded\n",
    "    # significant effect with confounds\n",
    "    nonrejected_insign_in_conf = np.intersect1d(insig_stimtests, np.where(confounded_results < .05)[0])\n",
    "    no_alarm = unconfounded_results[np.intersect1d(nonrejected_insign_in_conf, \n",
    "                                                   np.where(unconfounded_results > .05)[0])]\n",
    "\n",
    "    # Fake effect (not detected) \n",
    "    # stimuli classified as confounded\n",
    "    # significant effect with confounds\n",
    "    rejected_sign_in_conf = np.intersect1d(sig_stimtests, np.where(confounded_results < .05)[0])\n",
    "    good_alarm = unconfounded_results[np.intersect1d(rejected_sign_in_conf, \n",
    "                                                     np.where(unconfounded_results > .05)[0])]\n",
    "\n",
    "    # Real effect (falsely rejected) \n",
    "    # stimuli classified as confounded\n",
    "    # significant effect without confounds\n",
    "    false_rejection = unconfounded_results[np.intersect1d(sig_stimtests, \n",
    "                                                          np.where(unconfounded_results < .05)[0])]\n",
    "\n",
    "    return no_alarm, good_alarm, false_rejection"
   ]
  },
  {
   "cell_type": "markdown",
   "metadata": {
    "collapsed": false
   },
   "source": [
    "# n=20\n",
    "stims=40\n",
    "effect_size=.5\n",
    "confound_size=.3\n",
    "runs=100000\n",
    "\n",
    "plot_hist(*run_stim(n=n, stims=stims, effect_size=effect_size, confound_size=confound_size, runs=runs), \n",
    "          n=n, effect_size=effect_size, confound_size=confound_size, runs=runs,\n",
    "          ax=plt.gca(), pltx=True)\n",
    "\n",
    "plt.gcf().savefig(\"/Users/jona/dropbox/manuscripts/statfail/statfail_simul.pdf\")"
   ]
  },
  {
   "cell_type": "code",
   "execution_count": 10,
   "metadata": {
    "collapsed": false
   },
   "outputs": [
    {
     "data": {
      "image/png": "[encoded data removed]",
      "text/plain": [
       "<matplotlib.figure.Figure at 0x116d84ef0>"
      ]
     },
     "metadata": {},
     "output_type": "display_data"
    }
   ],
   "source": [
    "n=30\n",
    "stims=40\n",
    "effect_size=0.\n",
    "confound_size=.5\n",
    "runs=100000\n",
    "\n",
    "plot_hist(*run_stim(n=n, stims=stims, effect_size=effect_size, confound_size=confound_size, runs=runs), \n",
    "          n=n, effect_size=effect_size, confound_size=confound_size, runs=runs,\n",
    "          ax=plt.gca(), pltx=True)"
   ]
  },
  {
   "cell_type": "code",
   "execution_count": null,
   "metadata": {
    "collapsed": true
   },
   "outputs": [],
   "source": []
  }
 ],
 "metadata": {
  "kernelspec": {
   "display_name": "Python 3",
   "language": "python",
   "name": "python3"
  },
  "language_info": {
   "codemirror_mode": {
    "name": "ipython",
    "version": 3
   },
   "file_extension": ".py",
   "mimetype": "text/x-python",
   "name": "python",
   "nbconvert_exporter": "python",
   "pygments_lexer": "ipython3",
   "version": "3.4.3"
  }
 },
 "nbformat": 4,
 "nbformat_minor": 0
}
